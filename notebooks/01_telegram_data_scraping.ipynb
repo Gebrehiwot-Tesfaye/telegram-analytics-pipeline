{
 "cells": [
  {
   "cell_type": "markdown",
   "id": "53d7e6ed",
   "metadata": {},
   "source": [
    "# Task 1: Data Scraping and Collection (Extract & Load)\n",
    "\n",
    "This notebook demonstrates how to scrape messages and images from public Telegram channels related to Ethiopian medical businesses, save the raw data in a partitioned directory structure, and implement robust logging for reproducibility and traceability."
   ]
  },
  {
   "cell_type": "code",
   "execution_count": null,
   "id": "c4b0d7dd",
   "metadata": {},
   "outputs": [],
   "source": [
    "# Section 1: Import Required Libraries\n",
    "import os\n",
    "import json\n",
    "import logging\n",
    "from datetime import datetime\n",
    "from telethon.sync import TelegramClient\n",
    "from telethon.tl.types import MessageMediaPhoto\n",
    "from dotenv import load_dotenv"
   ]
  },
  {
   "cell_type": "code",
   "execution_count": null,
   "id": "a9e6492a",
   "metadata": {},
   "outputs": [],
   "source": [
    "# Section 2: Set Up Telegram API Credentials\n",
    "# Load environment variables from .env file\n",
    "load_dotenv()\n",
    "API_ID = int(os.getenv(\"TELEGRAM_API_ID\"))\n",
    "API_HASH = os.getenv(\"TELEGRAM_API_HASH\")\n",
    "\n",
    "# List of target channels\n",
    "CHANNELS = [\n",
    "    \"https://t.me/lobelia4cosmetics\",\n",
    "    \"https://t.me/tikvahpharma\",\n",
    "     \"https://t.me/CheMed123\"  # Example: Chemed channel\n",
    "]"
   ]
  },
  {
   "cell_type": "code",
   "execution_count": null,
   "id": "3432bd57",
   "metadata": {},
   "outputs": [],
   "source": [
    "# Section 3: Define Utility Functions for Scraping\n",
    "\n",
    "def ensure_dir(path):\n",
    "    os.makedirs(path, exist_ok=True)\n",
    "\n",
    "# Function to scrape messages from a channel\n",
    "def fetch_channel_messages(client, channel_url, limit=500):\n",
    "    messages = []\n",
    "    images = []\n",
    "    for message in client.iter_messages(channel_url, limit=limit):\n",
    "        msg = {\n",
    "            \"id\": message.id,\n",
    "            \"date\": str(message.date),\n",
    "            \"text\": message.text,\n",
    "            \"media\": bool(message.media),\n",
    "        }\n",
    "        messages.append(msg)\n",
    "        # Collect image media\n",
    "        if message.media and isinstance(message.media, MessageMediaPhoto):\n",
    "            images.append(message)\n",
    "    return messages, images\n",
    "\n",
    "# Function to download images from messages\n",
    "def download_images(client, images, out_dir):\n",
    "    ensure_dir(out_dir)\n",
    "    for msg in images:\n",
    "        try:\n",
    "            file_path = client.download_media(msg, file=out_dir)\n",
    "        except Exception as e:\n",
    "            logging.error(f\"Failed to download image {msg.id}: {e}\")"
   ]
  },
  {
   "cell_type": "code",
   "execution_count": null,
   "id": "e7d993c7",
   "metadata": {},
   "outputs": [],
   "source": [
    "# Section 4: Scrape Messages from Multiple Telegram Channels\n",
    "# Section 5: Download Images from Telegram Messages\n",
    "\n",
    "RAW_DATA_DIR = \"data/raw/telegram_messages\"\n",
    "IMAGE_DATA_DIR = \"data/raw/telegram_images\"\n",
    "\n",
    "def scrape_and_save():\n",
    "    with TelegramClient('anon', API_ID, API_HASH) as client:\n",
    "        for channel_url in CHANNELS:\n",
    "            channel_name = channel_url.split('/')[-1]\n",
    "            date_str = datetime.now().strftime(\"%Y-%m-%d\")\n",
    "            out_dir = os.path.join(RAW_DATA_DIR, date_str)\n",
    "            ensure_dir(out_dir)\n",
    "            out_path = os.path.join(out_dir, f\"{channel_name}.json\")\n",
    "            # Scrape messages and images\n",
    "            messages, images = fetch_channel_messages(client, channel_url)\n",
    "            # Save messages as JSON\n",
    "            with open(out_path, \"w\", encoding=\"utf-8\") as f:\n",
    "                json.dump(messages, f, ensure_ascii=False, indent=2)\n",
    "            # Download images\n",
    "            img_out_dir = os.path.join(IMAGE_DATA_DIR, date_str, channel_name)\n",
    "            download_images(client, images, img_out_dir)\n",
    "            logging.info(f\"Scraped {len(messages)} messages and {len(images)} images from {channel_url}\")\n",
    "\n",
    "scrape_and_save()"
   ]
  },
  {
   "cell_type": "markdown",
   "id": "9b75e44c",
   "metadata": {},
   "source": [
    "## Saving Raw Data\n",
    "\n",
    "All scraped messages are saved as JSON files in a partitioned directory structure: `data/raw/telegram_messages/YYYY-MM-DD/channel_name.json`. Images are saved under `data/raw/telegram_images/YYYY-MM-DD/channel_name/`. This structure supports incremental processing and easy data management."
   ]
  },
  {
   "cell_type": "code",
   "execution_count": null,
   "id": "30321a37",
   "metadata": {},
   "outputs": [],
   "source": [
    "# Section 7: Implement Logging for Scraping Process\n",
    "LOG_FILE = os.path.join(RAW_DATA_DIR, \"scraping.log\")\n",
    "logging.basicConfig(\n",
    "    filename=LOG_FILE,\n",
    "    level=logging.INFO,\n",
    "    format=\"%(asctime)s %(levelname)s:%(message)s\"\n",
    ")\n",
    "print(f\"Logging to {LOG_FILE}\")"
   ]
  },
  {
   "cell_type": "code",
   "execution_count": null,
   "id": "2847d537",
   "metadata": {},
   "outputs": [],
   "source": [
    "# Section 8: Verify Directory and File Creation\n",
    "import glob\n",
    "\n",
    "def list_created_files():\n",
    "    print(\"Created message files:\")\n",
    "    for f in glob.glob(os.path.join(RAW_DATA_DIR, \"*\", \"*.json\")):\n",
    "        print(f)\n",
    "    print(\"\\nCreated image directories:\")\n",
    "    for d in glob.glob(os.path.join(IMAGE_DATA_DIR, \"*\", \"*\")):\n",
    "        print(d)\n",
    "\n",
    "list_created_files()"
   ]
  }
 ],
 "metadata": {
  "kernelspec": {
   "display_name": "Python 3",
   "language": "python",
   "name": "python3"
  },
  "language_info": {
   "codemirror_mode": {
    "name": "ipython",
    "version": 3
   },
   "file_extension": ".py",
   "mimetype": "text/x-python",
   "name": "python",
   "nbconvert_exporter": "python",
   "pygments_lexer": "ipython3",
   "version": "3.10.11"
  }
 },
 "nbformat": 4,
 "nbformat_minor": 5
}
